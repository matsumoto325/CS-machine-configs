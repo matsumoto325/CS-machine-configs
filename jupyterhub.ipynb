{
 "cells": [
  {
   "cell_type": "markdown",
   "id": "19c29c2d",
   "metadata": {
    "vscode": {
     "languageId": "plaintext"
    }
   },
   "source": [
    "# Ansible による mdx インスタンスへの TLJHrepo2docker のインストール"
   ]
  },
  {
   "cell_type": "code",
   "execution_count": 19,
   "id": "d6d6b5ee-5d36-499f-ad3d-7498b132ad7e",
   "metadata": {},
   "outputs": [],
   "source": [
    "!./mdxcsv2inventory.py -g nfsserver vm1 -g ldapserver vm1 -g reverseproxy vm1 user-portal-vm-info.csv > hosts.ini"
   ]
  },
  {
   "cell_type": "code",
   "execution_count": 20,
   "id": "b84ed799-34bb-4576-898e-4920c5a96a48",
   "metadata": {},
   "outputs": [
    {
     "name": "stdout",
     "output_type": "stream",
     "text": [
      "[all:vars]\n",
      "ansible_user=mdxuser\n",
      "ansible_remote_tmp=/tmp/.ansible\n",
      "ethipv4prefix=163.220.176.0/21\n",
      "rdmaipv4prefix=10.146.88.0/21\n",
      "ethipv6prefix=::/64\n",
      "\n",
      "[default]\n",
      "163.220.176.59  hostname=tljh-mdx2.cs.rcos.nii.ac.jp ethipv4=163.220.176.59  rdmaipv4=10.146.91.226  \n",
      "\n",
      "[nfsserver]\n",
      "# group with regexp 'vm1'\n",
      "\n",
      "[ldapserver]\n",
      "# group with regexp 'vm1'\n",
      "\n",
      "[reverseproxy]\n",
      "# group with regexp 'vm1'\n",
      "\n"
     ]
    }
   ],
   "source": [
    "!cat hosts.ini"
   ]
  },
  {
   "cell_type": "code",
   "execution_count": null,
   "id": "9511fe64-d607-400f-9432-c3310c391dd9",
   "metadata": {},
   "outputs": [],
   "source": []
  }
 ],
 "metadata": {
  "kernelspec": {
   "display_name": "Python 3 (ipykernel)",
   "language": "python",
   "name": "python3"
  },
  "language_info": {
   "codemirror_mode": {
    "name": "ipython",
    "version": 3
   },
   "file_extension": ".py",
   "mimetype": "text/x-python",
   "name": "python",
   "nbconvert_exporter": "python",
   "pygments_lexer": "ipython3",
   "version": "3.12.11"
  }
 },
 "nbformat": 4,
 "nbformat_minor": 5
}
