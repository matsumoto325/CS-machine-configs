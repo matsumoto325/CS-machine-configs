{
 "cells": [
  {
   "cell_type": "markdown",
   "id": "19c29c2d",
   "metadata": {
    "vscode": {
     "languageId": "plaintext"
    }
   },
   "source": [
    "# Ansible による mdx インスタンスへの TLJHrepo2docker のインストール"
   ]
  },
  {
   "cell_type": "code",
   "execution_count": null,
   "id": "d6d6b5ee-5d36-499f-ad3d-7498b132ad7e",
   "metadata": {
    "trusted": true
   },
   "outputs": [],
   "source": [
    "!./mdxcsv2inventory.py -g nfsserver vm1 -g ldapserver vm1 -g reverseproxy vm1 user-portal-vm-info.csv > hosts.ini"
   ]
  },
  {
   "cell_type": "code",
   "execution_count": null,
   "id": "b84ed799-34bb-4576-898e-4920c5a96a48",
   "metadata": {
    "trusted": true
   },
   "outputs": [],
   "source": [
    "!cat hosts.ini"
   ]
  },
  {
   "cell_type": "code",
   "execution_count": null,
   "id": "9511fe64-d607-400f-9432-c3310c391dd9",
   "metadata": {
    "trusted": true
   },
   "outputs": [],
   "source": [
    "import argparse\n",
    "import getpass\n",
    "import pexpect\n",
    "import multiprocessing as mp\n",
    "import sys\n",
    "\n",
    "from ansible.parsing.dataloader import DataLoader\n",
    "from ansible.inventory.manager import InventoryManager\n",
    "\n",
    "from mdxpasswdinit import pr_exit\n",
    "from mdxpasswdinit import load_hosts_from_inventory\n",
    "from mdxpasswdinit import set_first_password"
   ]
  },
  {
   "cell_type": "code",
   "execution_count": null,
   "id": "460e2a8b-d311-45bf-8155-7d829a1e5a04",
   "metadata": {
    "trusted": true
   },
   "outputs": [],
   "source": [
    "password = input('初期パスワード: ')\n",
    "password"
   ]
  },
  {
   "cell_type": "code",
   "execution_count": null,
   "id": "e1e849a4-c734-4552-b2ac-156a10e6f96e",
   "metadata": {
    "trusted": true
   },
   "outputs": [],
   "source": [
    "desc = \"set mdxuser password at first time\"\n",
    "\n",
    "parser = argparse.ArgumentParser(description = desc)\n",
    "parser.add_argument(\"inventory\",\n",
    "                    metavar = \"INVENTORY\",\n",
    "                    help = \"ansible inventory file\")\n",
    "parser.add_argument(\"-u\", \"--user\", default = \"mdxuser\",\n",
    "                    help = \"ssh login user, default is 'mdxuser'\")\n",
    "parser.add_argument(\"-g\", \"--group\", default = \"default\",\n",
    "                    help = (\"group of VMs in the inventory to \" +\n",
    "                            \"initialize passowrd, default is 'default'\"))\n",
    "parser.add_argument(\"-t\", \"--timeout\", default = 5,\n",
    "                    help = \"timeout to ssh and wait 'New password:'\")\n",
    "parser.add_argument(\"--f\", \"--forks\", default = 30,\n",
    "                    help = \"number of fork processes, default is 30\")\n",
    "parser.add_argument(\"--ssh-args\", default = \"\",\n",
    "                    help = \"arguments for ssh to VMs\")\n",
    "\n",
    "args = parser.parse_args(args=['./hosts.ini'])\n",
    "\n",
    "hosts = load_hosts_from_inventory(args)\n",
    "if not hosts:\n",
    "    pr_exit(\"No host found in gorup '{}' in '{}'\".format(args.group,\n",
    "                                                     args.inventory))\n",
    "print(\"Target hosts: {}\".format(\", \".join(hosts)))\n",
    "\n",
    "#password = getpass.getpass(prompt = \"New Password: \")\n",
    "#verify = getpass.getpass(prompt = \"Retype New Password: \")\n",
    "#if password != verify:\n",
    "#pr_exit(\"Password mismatch\")\n",
    "\n",
    "setattr(args, \"password\", password)\n",
    "\n",
    "\n",
    "print(\"initializing the first password...\")\n",
    "mpargs = []\n",
    "for host in hosts:\n",
    "    mpargs.append((args, host))\n",
    "\n",
    "with mp.Pool(processes = 30) as p:\n",
    "    rets = p.map(set_first_password, mpargs)\n",
    "\n",
    "for ret in rets:\n",
    "    print(\"{}: {}\".format(ret[0], ret[1]))"
   ]
  },
  {
   "cell_type": "code",
   "execution_count": null,
   "id": "283514b2-d835-47b3-8d29-13853a5de31a",
   "metadata": {
    "trusted": true
   },
   "outputs": [],
   "source": []
  }
 ],
 "metadata": {
  "kernelspec": {
   "display_name": "Python 3 (ipykernel)",
   "language": "python",
   "name": "python3"
  },
  "language_info": {
   "codemirror_mode": {
    "name": "ipython",
    "version": 3
   },
   "file_extension": ".py",
   "mimetype": "text/x-python",
   "name": "python",
   "nbconvert_exporter": "python",
   "pygments_lexer": "ipython3",
   "version": "3.12.11"
  }
 },
 "nbformat": 4,
 "nbformat_minor": 5
}
