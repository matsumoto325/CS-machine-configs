{
 "cells": [
  {
   "cell_type": "markdown",
   "id": "21439389-1ab4-4298-a31b-95665ea6f0ea",
   "metadata": {},
   "source": [
    "# GakuNin RDMデータ解析機能をちょっと便利に"
   ]
  },
  {
   "cell_type": "markdown",
   "id": "045ecc59-ccd3-4e01-8651-7b3fb5237acd",
   "metadata": {},
   "source": [
    "----\n",
    "## デモや授業で使えるように出力を消しておく"
   ]
  },
  {
   "cell_type": "code",
   "execution_count": null,
   "id": "27568f4f-0ab6-4121-bb28-70ef92e773a2",
   "metadata": {},
   "outputs": [],
   "source": [
    "import os"
   ]
  },
  {
   "cell_type": "code",
   "execution_count": null,
   "id": "350260b2-930b-42cc-a755-20821678540a",
   "metadata": {},
   "outputs": [],
   "source": [
    "fbase = input('ファイル名から .ipynb を除いたもの')"
   ]
  },
  {
   "cell_type": "code",
   "execution_count": null,
   "id": "55d09c91-a8ce-4d82-bc33-8d7425d7ffe6",
   "metadata": {},
   "outputs": [],
   "source": [
    "%env FBASE={fbase}"
   ]
  },
  {
   "cell_type": "markdown",
   "id": "664010e7-c3f4-487a-a779-36599c8c535c",
   "metadata": {},
   "source": [
    "### 上書きモード"
   ]
  },
  {
   "cell_type": "code",
   "execution_count": null,
   "id": "ee45b960-4741-4522-bb27-697a30349eb7",
   "metadata": {},
   "outputs": [],
   "source": [
    "!jupyter nbconvert --clear-output --inplace ${FBASE}.ipynb"
   ]
  }
 ],
 "metadata": {
  "kernelspec": {
   "display_name": "Python 3 (ipykernel)",
   "language": "python",
   "name": "python3"
  },
  "language_info": {
   "codemirror_mode": {
    "name": "ipython",
    "version": 3
   },
   "file_extension": ".py",
   "mimetype": "text/x-python",
   "name": "python",
   "nbconvert_exporter": "python",
   "pygments_lexer": "ipython3",
   "version": "3.12.11"
  }
 },
 "nbformat": 4,
 "nbformat_minor": 5
}
